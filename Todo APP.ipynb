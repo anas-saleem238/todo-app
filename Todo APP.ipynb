{
 "cells": [
  {
   "cell_type": "code",
   "execution_count": 3,
   "id": "dd1435c1-2665-407d-b914-deb8023279b3",
   "metadata": {},
   "outputs": [],
   "source": [
    "# TODO APPLICATION PRACTICE \n",
    "\n",
    "# Main Menu\n",
    "# Add Tasks\n",
    "# View Tasks \n",
    "# Delete Tasks \n",
    "# Exit App"
   ]
  },
  {
   "cell_type": "code",
   "execution_count": 1,
   "id": "4adbbf72-f5b9-4162-8dc8-79baecd135c9",
   "metadata": {},
   "outputs": [
    {
     "name": "stdout",
     "output_type": "stream",
     "text": [
      "-----------------\n",
      "   MAIN MENU  \n",
      "-----------------\n",
      "\n",
      "1. Add Task\n",
      "2. View Task\n",
      "3. Delete Task\n",
      "4. Exit App\n"
     ]
    },
    {
     "name": "stdin",
     "output_type": "stream",
     "text": [
      "\n",
      "Enter Command:  1\n"
     ]
    },
    {
     "name": "stdout",
     "output_type": "stream",
     "text": [
      "-----------------\n",
      "   MAIN MENU  \n",
      "-----------------\n",
      "\n",
      "1. Add Task\n",
      "2. View Task\n",
      "3. Delete Task\n",
      "4. Exit App\n"
     ]
    },
    {
     "name": "stdin",
     "output_type": "stream",
     "text": [
      "\n",
      "Enter Command:  1\n"
     ]
    },
    {
     "name": "stdout",
     "output_type": "stream",
     "text": [
      "-----------------\n",
      "   Adding Task  \n",
      "-----------------\n",
      "\n"
     ]
    },
    {
     "name": "stdin",
     "output_type": "stream",
     "text": [
      "Task #1:  python \n"
     ]
    },
    {
     "name": "stdout",
     "output_type": "stream",
     "text": [
      "Task #1 - Successfully added\n",
      "\n",
      "-----------------\n",
      "   MAIN MENU  \n",
      "-----------------\n",
      "\n",
      "1. Add Task\n",
      "2. View Task\n",
      "3. Delete Task\n",
      "4. Exit App\n"
     ]
    },
    {
     "name": "stdin",
     "output_type": "stream",
     "text": [
      "\n",
      "Enter Command:  1\n"
     ]
    },
    {
     "name": "stdout",
     "output_type": "stream",
     "text": [
      "-----------------\n",
      "   Adding Task  \n",
      "-----------------\n",
      "\n"
     ]
    },
    {
     "name": "stdin",
     "output_type": "stream",
     "text": [
      "Task #2:  java \n"
     ]
    },
    {
     "name": "stdout",
     "output_type": "stream",
     "text": [
      "Task #2 - Successfully added\n",
      "\n",
      "-----------------\n",
      "   MAIN MENU  \n",
      "-----------------\n",
      "\n",
      "1. Add Task\n",
      "2. View Task\n",
      "3. Delete Task\n",
      "4. Exit App\n"
     ]
    },
    {
     "name": "stdin",
     "output_type": "stream",
     "text": [
      "\n",
      "Enter Command:  1\n"
     ]
    },
    {
     "name": "stdout",
     "output_type": "stream",
     "text": [
      "-----------------\n",
      "   Adding Task  \n",
      "-----------------\n",
      "\n"
     ]
    },
    {
     "name": "stdin",
     "output_type": "stream",
     "text": [
      "Task #3:  ruby \n"
     ]
    },
    {
     "name": "stdout",
     "output_type": "stream",
     "text": [
      "Task #3 - Successfully added\n",
      "\n",
      "-----------------\n",
      "   MAIN MENU  \n",
      "-----------------\n",
      "\n",
      "1. Add Task\n",
      "2. View Task\n",
      "3. Delete Task\n",
      "4. Exit App\n"
     ]
    },
    {
     "name": "stdin",
     "output_type": "stream",
     "text": [
      "\n",
      "Enter Command:  2\n"
     ]
    },
    {
     "name": "stdout",
     "output_type": "stream",
     "text": [
      "-----------------\n",
      "   Viewing Task  \n",
      "-----------------\n",
      "\n",
      "Task #1 - python \n",
      "Task #2 - java \n",
      "Task #3 - ruby \n",
      "-----------------\n",
      "   MAIN MENU  \n",
      "-----------------\n",
      "\n",
      "1. Add Task\n",
      "2. View Task\n",
      "3. Delete Task\n",
      "4. Exit App\n"
     ]
    },
    {
     "name": "stdin",
     "output_type": "stream",
     "text": [
      "\n",
      "Enter Command:  3\n"
     ]
    },
    {
     "name": "stdout",
     "output_type": "stream",
     "text": [
      "-----------------\n",
      "   Deleting Task  \n",
      "-----------------\n",
      "\n",
      "Task #1 - python \n",
      "Task #2 - java \n",
      "Task #3 - ruby \n"
     ]
    },
    {
     "name": "stdin",
     "output_type": "stream",
     "text": [
      "Enter Task Index eg. 1:  3\n"
     ]
    },
    {
     "name": "stdout",
     "output_type": "stream",
     "text": [
      "Task #3 - Successfully Deleted\n",
      "\n",
      "-----------------\n",
      "   MAIN MENU  \n",
      "-----------------\n",
      "\n",
      "1. Add Task\n",
      "2. View Task\n",
      "3. Delete Task\n",
      "4. Exit App\n"
     ]
    },
    {
     "name": "stdin",
     "output_type": "stream",
     "text": [
      "\n",
      "Enter Command:  4\n"
     ]
    },
    {
     "name": "stdout",
     "output_type": "stream",
     "text": [
      "\n",
      "Exiting App, Have a nice day :)\n"
     ]
    }
   ],
   "source": [
    "def Isinteger(userinput):\n",
    "    try:\n",
    "        int(userinput)\n",
    "        return True\n",
    "\n",
    "    except ValueError:\n",
    "        return False\n",
    "        \n",
    "def mainmenu(menu):\n",
    "    print(\"-----------------\\n   MAIN MENU  \\n-----------------\\n\")\n",
    "    for menuKey, menuName in menu.items():\n",
    "        print(\"{}. {}\".format(menuKey, menuName))\n",
    "    usercommand = input(\"\\nEnter Command: \")\n",
    "    return usercommand\n",
    "\n",
    "def addtask(taskdictionary):\n",
    "    print(\"-----------------\\n   Adding Task  \\n-----------------\\n\")\n",
    "    taskindex = len(taskdictionary) + 1\n",
    "    taskname = input(\"Task #{}: \".format(taskindex)) \n",
    "    taskdictionary.update({taskindex : taskname})\n",
    "    print(\"Task #{} - Successfully added\\n\".format(taskindex))\n",
    "\n",
    "def viewtask(taskdictionary):\n",
    "    print(\"-----------------\\n   Viewing Task  \\n-----------------\\n\")\n",
    "    if len(taskdictionary) > 0:\n",
    "        for taskindex, taskname in taskdictionary.items():\n",
    "            print(\"Task #{} - {}\".format(taskindex, taskname))\n",
    "\n",
    "    else:\n",
    "        print(\"No Task Found\\n\")\n",
    "\n",
    "def deletetask(taskdictionary):\n",
    "    print(\"-----------------\\n   Deleting Task  \\n-----------------\\n\")\n",
    "    if len(taskdictionary) > 0:\n",
    "        for taskindex, taskname in taskdictionary.items():\n",
    "            print(\"Task #{} - {}\".format(taskindex, taskname))\n",
    "\n",
    "        taskindex = int(input(\"Enter Task Index eg. 1: \"))\n",
    "        if taskindex in taskdictionary.keys():\n",
    "            taskdictionary.pop(taskindex)\n",
    "            print(\"Task #{} - Successfully Deleted\\n\".format(taskindex))\n",
    "\n",
    "        else:\n",
    "            print(\"Invalid Index, Try Valid Index\")\n",
    "\n",
    "    else:\n",
    "        print(\"No Task Found\\n\")\n",
    "        \n",
    "    \n",
    "\n",
    "menu = {\n",
    "    1 : \"Add Task\",\n",
    "    2 : \"View Task\",\n",
    "    3 : \"Delete Task\",\n",
    "    4 : \"Exit App\"\n",
    "}\n",
    "mainmenu(menu)\n",
    "\n",
    "taskdictionary = {}\n",
    "\n",
    "while True:\n",
    "    usercommand = mainmenu(menu)\n",
    "\n",
    "    if Isinteger(usercommand) == True:\n",
    "        usercommand = int(usercommand)\n",
    "        if usercommand > 0 and usercommand <= 4:\n",
    "\n",
    "            #Add Task\n",
    "            if usercommand == 1:\n",
    "                addtask(taskdictionary)\n",
    "\n",
    "            if usercommand == 2:\n",
    "                viewtask(taskdictionary)\n",
    "\n",
    "            if usercommand == 3:\n",
    "                deletetask(taskdictionary)\n",
    "\n",
    "            if usercommand == 4:\n",
    "                print(\"\\nExiting App, Have a nice day :)\")\n",
    "                break\n",
    "\n",
    "\n",
    "            \n",
    "        else:\n",
    "            print(\"\\nInvalid Command, Try Valid Command \")\n",
    "    else:\n",
    "        print(\"\\nInvalid Command, Try Valid Command \")\n",
    "\n",
    "    "
   ]
  },
  {
   "cell_type": "code",
   "execution_count": null,
   "id": "da39b102-d72c-4684-9f34-f7f6c6816a1f",
   "metadata": {},
   "outputs": [],
   "source": []
  }
 ],
 "metadata": {
  "kernelspec": {
   "display_name": "Python 3 (ipykernel)",
   "language": "python",
   "name": "python3"
  },
  "language_info": {
   "codemirror_mode": {
    "name": "ipython",
    "version": 3
   },
   "file_extension": ".py",
   "mimetype": "text/x-python",
   "name": "python",
   "nbconvert_exporter": "python",
   "pygments_lexer": "ipython3",
   "version": "3.12.4"
  }
 },
 "nbformat": 4,
 "nbformat_minor": 5
}
